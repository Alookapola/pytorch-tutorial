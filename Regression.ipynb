{
  "nbformat": 4,
  "nbformat_minor": 0,
  "metadata": {
    "colab": {
      "name": "Untitled0.ipynb",
      "provenance": [],
      "authorship_tag": "ABX9TyPKI+LG4IfHQPD1Fmz/o7yQ",
      "include_colab_link": true
    },
    "kernelspec": {
      "name": "python3",
      "display_name": "Python 3"
    },
    "language_info": {
      "name": "python"
    }
  },
  "cells": [
    {
      "cell_type": "markdown",
      "metadata": {
        "id": "view-in-github",
        "colab_type": "text"
      },
      "source": [
        "<a href=\"https://colab.research.google.com/github/Alookapola/pytorch-tutorial/blob/master/Regression.ipynb\" target=\"_parent\"><img src=\"https://colab.research.google.com/assets/colab-badge.svg\" alt=\"Open In Colab\"/></a>"
      ]
    },
    {
      "cell_type": "code",
      "execution_count": 2,
      "metadata": {
        "colab": {
          "base_uri": "https://localhost:8080/"
        },
        "id": "y1TRdOtdw8_w",
        "outputId": "0c1411a4-7f3c-44b7-8d61-33b2b529d141"
      },
      "outputs": [
        {
          "output_type": "stream",
          "name": "stdout",
          "text": [
            "Downloading...\n",
            "From: https://drive.google.com/uc?id=19CCyCgJrUxtvgZF53vnctJiOJ23T5mqF\n",
            "To: /content/covid.train.csv\n",
            "100% 2.00M/2.00M [00:00<00:00, 44.0MB/s]\n",
            "Downloading...\n",
            "From: https://drive.google.com/uc?id=1CE240jLm2npU-tdz81-oVKEF3T2yfT1O\n",
            "To: /content/covid.test.csv\n",
            "100% 651k/651k [00:00<00:00, 21.6MB/s]\n"
          ]
        }
      ],
      "source": [
        "# 设置路径\n",
        "tr_path = 'covid.train.csv'  # path to training data\n",
        "tt_path = 'covid.test.csv'   # path to testing data\n",
        "\n",
        "!gdown --id '19CCyCgJrUxtvgZF53vnctJiOJ23T5mqF' --output covid.train.csv\n",
        "!gdown --id '1CE240jLm2npU-tdz81-oVKEF3T2yfT1O' --output covid.test.csv"
      ]
    },
    {
      "cell_type": "code",
      "source": [
        "# test \n",
        "with open(tr_path, 'r') as fp:\n",
        "  data = list(csv.reader(fp))\n",
        "  data = np.array(data[1:])[:, 1:].astype(float)\n",
        "data.shape\n",
        "# (2700, 94)\n",
        "\n"
      ],
      "metadata": {
        "colab": {
          "base_uri": "https://localhost:8080/"
        },
        "id": "W0Fb4DLO7zwn",
        "outputId": "aa244175-7e9d-4497-fd9e-5780fae8567c"
      },
      "execution_count": 10,
      "outputs": [
        {
          "output_type": "execute_result",
          "data": {
            "text/plain": [
              "(2700, 94)"
            ]
          },
          "metadata": {},
          "execution_count": 10
        }
      ]
    },
    {
      "cell_type": "markdown",
      "source": [
        ""
      ],
      "metadata": {
        "id": "oSf_AZC77zBo"
      }
    },
    {
      "cell_type": "code",
      "source": [
        "# Pytorch\n",
        "import torch\n",
        "import torch.nn as nn\n",
        "from torch.utils.data import Dataset, DataLoader ##\n",
        "\n",
        "# For data processing\n",
        "import numpy as np\n",
        "import csv\n",
        "import os\n",
        "\n",
        "# Plotting\n",
        "import matplotlib.pyplot as plt\n",
        "from matplotlib.pyplot import figure\n",
        "\n",
        "myseed = 42069\n",
        "torch.backends.cudnn.deterministic = True\n",
        "torch.backends.cudnn.benchmark = False\n",
        "np.random.seed(myseed)\n",
        "torch.manual_seed(myseed)\n",
        "if torch.cuda.is_available():\n",
        "    torch.cuda.manual_seed_all(myseed)\n",
        "\n",
        "\n"
      ],
      "metadata": {
        "id": "ngjJjUEwxYfd"
      },
      "execution_count": 4,
      "outputs": []
    },
    {
      "cell_type": "code",
      "source": [
        "def get_device(): \n",
        "  return 'cuda' if torch.cuda.is_available() else 'cpu'\n",
        "get_device()\n",
        "\n",
        "def plot_learning_curve(loss, title=''):\n",
        "  total_steps = len(loss['train'])\n",
        "\n",
        "\n",
        "def plot_pred(dv_set, model, device, lim=35., preds=None, targets=None):"
      ],
      "metadata": {
        "colab": {
          "base_uri": "https://localhost:8080/",
          "height": 35
        },
        "id": "DvH3bZXU4xE7",
        "outputId": "7fc61e92-1050-4942-fe11-7f2b247c573d"
      },
      "execution_count": 6,
      "outputs": [
        {
          "output_type": "execute_result",
          "data": {
            "application/vnd.google.colaboratory.intrinsic+json": {
              "type": "string"
            },
            "text/plain": [
              "'cpu'"
            ]
          },
          "metadata": {},
          "execution_count": 6
        }
      ]
    },
    {
      "cell_type": "code",
      "source": [
        "# 给dataset建模一个class\n",
        "class COVID19Dataset(Dataset):\n",
        "  def __init__(self, path, mode='train', target_only=False):\n",
        "    self.mode = mode\n",
        "\n",
        "    with open(path, 'r') as fp:\n",
        "      data = list(csv.reader(fp))  #$$\n",
        "      data = np.array(data[1:])[:, 1:].astype(float) # 排除第一列之后读取\n",
        "    \n",
        "    if not target_only:\n",
        "      feats = list(range(93))  # 全部列的序号\n",
        "\n",
        "    else:\n",
        "      feats = list(range(40))\n",
        "      feats.append(57)\n",
        "      feats.append(75)\n",
        "\n",
        "    if mode == 'test':\n",
        "      #  Testing data\n",
        "      # data: 893 x 93 (40 states + day 1 (18) + day 2 (18) + day 3 (17))\n",
        "      data = data[:, feats]\n",
        "      self.data = torch.FloatTensor(data)\n",
        "\n",
        "    else:\n",
        "      # Training data (train/dev sets)\n",
        "      # data: 2700 x 94 (40 states + day 1 (18) + day 2 (18) + day 3 (18))\n",
        "      target = data[:, -1]\n",
        "      data= data[:, feats]\n",
        "\n",
        "      if mode == 'train':\n",
        "        idx = [i for i in range(len(data)) if i % 10 != 0]\n",
        "      elif mode == 'dev':\n",
        "        idx = [i for i in range(len(data)) if i % 10 == 0] # 验证集\n",
        "\n",
        "      # tensors转化                          \n",
        "      self.data = torch.FloatTensor(data[idx])\n",
        "      self.target = torch.FloatTensor(target[idx])\n",
        "\n",
        "    # Normalize features (you may remove this part to see what will happen)特征标准化 z-score标准化 同一个feature不同人之间\n",
        "    self.data[:, 40:] = \\\n",
        "    (self.data[:, 40:] - self.data[:, 40:].mean(dim=0, keepdim=True))/self.data[:, 40:].std(dim=0, keepdim = True)\n",
        "\n",
        "    self.dim = self.data.shape[1] #横向的编号是1 这个方向的维度\n",
        "\n",
        "    print('Finished reading the {} set of COVID19 Dataset ( {} samples found, each dim = {})'\n",
        "              .format(mode, len(self.data), self.dim))\n",
        "    \n",
        "  #\n",
        "  def __getitem__(self, index):\n",
        "    if self.mode in ['train', 'dev']:\n",
        "      return\n",
        "\n"
      ],
      "metadata": {
        "colab": {
          "base_uri": "https://localhost:8080/",
          "height": 136
        },
        "id": "3JbEXdT440_R",
        "outputId": "1743f75a-d216-43a8-eec3-830562063579"
      },
      "execution_count": 23,
      "outputs": [
        {
          "output_type": "error",
          "ename": "IndentationError",
          "evalue": "ignored",
          "traceback": [
            "\u001b[0;36m  File \u001b[0;32m\"<ipython-input-23-72eb26bdc882>\"\u001b[0;36m, line \u001b[0;32m33\u001b[0m\n\u001b[0;31m    self.data = torch.FloatTensor(data[idx])\u001b[0m\n\u001b[0m       ^\u001b[0m\n\u001b[0;31mIndentationError\u001b[0m\u001b[0;31m:\u001b[0m expected an indented block\n"
          ]
        }
      ]
    },
    {
      "cell_type": "code",
      "source": [
        "a = list(range(40))\n",
        "a.append(57)\n",
        "a.append(75)\n",
        "#a.append(57).append(75)\n"
      ],
      "metadata": {
        "id": "AFWz2NjjSN6w"
      },
      "execution_count": 24,
      "outputs": []
    },
    {
      "cell_type": "markdown",
      "source": [
        "**DATALOADER**"
      ],
      "metadata": {
        "id": "7tbw6CvvZBt0"
      }
    },
    {
      "cell_type": "code",
      "source": [
        "def prep_dataloader(path, mode, batch_size, n_jobs=0, target_only=False):\n",
        "    ''' Generates a dataset, then is put into a dataloader. '''\n",
        "    dataset = COVID19Dataset(path, mode=mode, target_only=target_only)  # Construct dataset\n",
        "    dataloader = DataLoader(\n",
        "        dataset, batch_size,\n",
        "        shuffle=(mode == 'train'), drop_last=False,  # 只在training时shuffle\n",
        "        num_workers=n_jobs, pin_memory=True)                            # Construct dataloader\n",
        "    return dataloader"
      ],
      "metadata": {
        "id": "mRgL4zMiZAeZ"
      },
      "execution_count": null,
      "outputs": []
    },
    {
      "cell_type": "code",
      "source": [
        "class NeuralNet(nn.Nodule):\n",
        "  def __init__(self, input_dim):\n",
        "    super(NeuralNet, self).__init__()  # 利用父类initialization\n",
        "\n",
        "    # Define the Network\n",
        "    self.net = nn.Sequential(\n",
        "        nn.Linear(input_dim, 64),\n",
        "        nn.ReLU(),\n",
        "        nn.Linear(64, 1)\n",
        "    )\n",
        "\n",
        "    # Mean squared error loss\n",
        "    self.criterion = nn.MSELoss(reduction = 'mean')  # torch.nn中的功能\n",
        "\n",
        "  \n",
        "  def forward(self, x):\n",
        "    return self.net(x).squeeze(1)\n",
        "\n",
        "  def cal_loss(self, pred, target):\n",
        "    return self.criterion(pred, target)"
      ],
      "metadata": {
        "id": "czs9GHoamLz2"
      },
      "execution_count": null,
      "outputs": []
    },
    {
      "cell_type": "markdown",
      "source": [
        "Training"
      ],
      "metadata": {
        "id": "vKM-Rd4hoj13"
      }
    },
    {
      "cell_type": "code",
      "source": [
        "def train(tr_set, dv_set, model, config, device): # 注意这里的model作为输入\n",
        "  \n",
        "  n_epochs = config['n_epochs'] # 总共的epochs数\n",
        "\n",
        "  optimizer = getattr(torch.optim, config['optimizer'])(\n",
        "        model.parameters(), **config['optim_hparas']) # 优化器 默认SGD\n",
        "  min_mse = 1000.\n",
        "  loss_record = {'train':[], 'dev':[]}\n",
        "  early_stop_cnt = 0\n",
        "  epoch = 0\n",
        "\n",
        "  while epoch < n_epochs:\n",
        "    model.train()  # 设置为训练模式\n",
        "    for x, y in tr_set:\n",
        "      optimizer.zero_grad()\n",
        "      x, y = x.to(device), y.to(device)  # 将data移动到device中\n",
        "      pred = model(x)\n",
        "      mse_loss = model.cal_loss(pred, y)\n",
        "      mse_loss.backward()\n",
        "      optimizer.step()  # update model with optimizer\n",
        "      loss_record['train'].append(mse_loss.detach().cpu().item())\n",
        "      # detach阻断反向传播 也可以用mse_loss().detach().cpu().numpy()\n",
        "\n",
        "    # After each epoch, test your model on the validation (development) set.\n",
        "    dev_mse = dev(dev_set, model, device)  # 主义这里的dev函数, 在后面定义\n",
        "    if dev_mse < min_mse:\n",
        "      # 保留改进之后的模型\n",
        "      min_mse = dev_mse\n",
        "\n",
        "      torch.save(model.state_dict(), config['save_path'])\n",
        "      early_stop_cut = 0 # 重新计数\n",
        "    \n",
        "    else:\n",
        "      early_stop_cnt += 1\n",
        "\n",
        "    epoch += 1\n",
        "    loss_record['dev'].apppend(dev_mse)\n",
        "    if early_stop_cnt > config['early_stop']: # 很多步没有改进之后，跳出循环\n",
        "      break\n",
        "    \n",
        "  print('Finished training after {} epochs'.format(epoch))\n",
        "  return min_mse, loss_record # 优化过程中最小的损失函数值 and 训练中loss_function的值变化\n"
      ],
      "metadata": {
        "colab": {
          "base_uri": "https://localhost:8080/",
          "height": 136
        },
        "id": "RmgG7Yw3olYw",
        "outputId": "4f9fee69-e54d-493c-fe22-f945fefd5910"
      },
      "execution_count": 1,
      "outputs": [
        {
          "output_type": "error",
          "ename": "SyntaxError",
          "evalue": "ignored",
          "traceback": [
            "\u001b[0;36m  File \u001b[0;32m\"<ipython-input-1-c91ec2e84a93>\"\u001b[0;36m, line \u001b[0;32m38\u001b[0m\n\u001b[0;31m    if early_stop_cnt > config['early_stop']:\u001b[0m\n\u001b[0m                                             ^\u001b[0m\n\u001b[0;31mSyntaxError\u001b[0m\u001b[0;31m:\u001b[0m unexpected EOF while parsing\n"
          ]
        }
      ]
    },
    {
      "cell_type": "markdown",
      "source": [
        "Validation"
      ],
      "metadata": {
        "id": "Q8_YwSTO6b8D"
      }
    },
    {
      "cell_type": "code",
      "source": [
        "def dev(dv_set, model, device):\n",
        "  model.eval() # 调整到evaluation模式\n",
        "  total_loss = 0\n",
        "  for x, y in dv_set:\n",
        "    x, y = x.to(device), y.to(device)\n",
        "    with torch.no_grad(): # 不计算梯度\n",
        "      pred = model(x)\n",
        "      mse_loss = model.cal_loss(pred,y)\n",
        "    total_loss += mse_loss.detach().cpu().item()\n"
      ],
      "metadata": {
        "id": "TTK4O2Lh6ZEW"
      },
      "execution_count": null,
      "outputs": []
    },
    {
      "cell_type": "code",
      "source": [
        "# 一系列超参数\n",
        "device = get_device()                 # get the current available device ('cpu' or 'cuda')\n",
        "os.makedirs('models', exist_ok=True)  # The trained model will be saved to ./models/\n",
        "target_only = False                   # TODO: Using 40 states & 2 tested_positive features\n",
        "\n",
        "# TODO: How to tune these hyper-parameters to improve your model's performance?\n",
        "config = {\n",
        "    'n_epochs': 3000,                # maximum number of epochs\n",
        "    'batch_size': 270,               # mini-batch size for dataloader\n",
        "    'optimizer': 'SGD',              # optimization algorithm (optimizer in torch.optim)\n",
        "    'optim_hparas': {                # hyper-parameters for the optimizer (depends on which optimizer you are using)\n",
        "        'lr': 0.001,                 # learning rate of SGD\n",
        "        'momentum': 0.9              # momentum for SGD\n",
        "    },\n",
        "    'early_stop': 200,               # early stopping epochs (the number epochs since your model's last improvement)\n",
        "    'save_path': 'models/model.pth'  # your model will be saved here\n",
        "}"
      ],
      "metadata": {
        "id": "t82tqu-co2L7"
      },
      "execution_count": null,
      "outputs": []
    }
  ]
}